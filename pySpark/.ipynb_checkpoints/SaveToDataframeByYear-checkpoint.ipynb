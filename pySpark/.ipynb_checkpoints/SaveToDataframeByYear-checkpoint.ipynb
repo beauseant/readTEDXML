{
 "cells": [
  {
   "cell_type": "code",
   "execution_count": 1,
   "id": "864b5e16",
   "metadata": {},
   "outputs": [],
   "source": [
    "import glob\n",
    "import tarfile\n",
    "import xmltodict\n",
    "import json"
   ]
  },
  {
   "cell_type": "code",
   "execution_count": 2,
   "id": "b1653b0e",
   "metadata": {},
   "outputs": [],
   "source": [
    "def openTarFile ( filename ):\n",
    "\n",
    "    with tarfile.open(filename, \"r:gz\") as file:\n",
    "        # don't use file.members as it's \n",
    "        # not giving nested files and folders\n",
    "        \n",
    "        dictdata = []\n",
    "\n",
    "        for member in file:        \n",
    "            if member.name.endswith ('xml'):\n",
    "                data = file.extractfile(member.name).read()\n",
    "                dictdata.append(xmltodict.parse(data))\n",
    "        return dictdata\n"
   ]
  },
  {
   "cell_type": "code",
   "execution_count": 3,
   "id": "34d00168",
   "metadata": {},
   "outputs": [],
   "source": [
    "keysToSaveMain = ['@DOC_ID']\n",
    "keysTranslateMain = {'@DOC_ID':'doc_id'}\n",
    "\n",
    "keysToSaveMainTechnicalSection = ['RECEPTION_ID']\n",
    "keysTranslateTechnicalSection = {'RECEPTION_ID':'reception_id'}\n",
    "\n",
    "\n",
    "def translateKeys ( tedDoc ):\n",
    "    data = {}\n",
    "    data = {keysTranslateMain[key] : tedDoc['TED_EXPORT'][key] for key in keysToSaveMain }\n",
    "    \n",
    "    #si queremos un diccionarion con otro diccionario para cada sección:\n",
    "    #data['TECHNICAL_SECTION'] = {keysTranslateTechnicalSection[key]: tedDoc['TED_EXPORT']['TECHNICAL_SECTION'][key] for key in keysTranslateTechnicalSection }\n",
    "    \n",
    "    #si queremos un sólo nivel:\n",
    "    data2 = {keysTranslateTechnicalSection[key]: tedDoc['TED_EXPORT']['TECHNICAL_SECTION'][key] for key in keysTranslateTechnicalSection }    \n",
    "    data.update (data2)\n",
    "    \n",
    "    return data"
   ]
  },
  {
   "cell_type": "code",
   "execution_count": 4,
   "id": "86dafa07",
   "metadata": {
    "scrolled": true
   },
   "outputs": [
    {
     "name": "stdout",
     "output_type": "stream",
     "text": [
      "///export/data_ml4ds/IntelComp/Datasets/ted/xmls/2015-10.tar.gz\n",
      "///export/data_ml4ds/IntelComp/Datasets/ted/xmls/2015-06.tar.gz\n",
      "///export/data_ml4ds/IntelComp/Datasets/ted/xmls/2015-09.tar.gz\n",
      "///export/data_ml4ds/IntelComp/Datasets/ted/xmls/2015-12.tar.gz\n",
      "///export/data_ml4ds/IntelComp/Datasets/ted/xmls/2015-04.tar.gz\n",
      "///export/data_ml4ds/IntelComp/Datasets/ted/xmls/2015-02.tar.gz\n",
      "///export/data_ml4ds/IntelComp/Datasets/ted/xmls/2015-03.tar.gz\n",
      "///export/data_ml4ds/IntelComp/Datasets/ted/xmls/2015-01.tar.gz\n",
      "///export/data_ml4ds/IntelComp/Datasets/ted/xmls/2015-07.tar.gz\n",
      "///export/data_ml4ds/IntelComp/Datasets/ted/xmls/2015-11.tar.gz\n",
      "///export/data_ml4ds/IntelComp/Datasets/ted/xmls/2015-05.tar.gz\n",
      "///export/data_ml4ds/IntelComp/Datasets/ted/xmls/2015-08.tar.gz\n"
     ]
    }
   ],
   "source": [
    "year = 2015\n",
    "path ='///export/data_ml4ds/IntelComp/Datasets/ted/xmls/'\n",
    "filePattern = path + '*' + str(year) + '*.tar.gz'\n",
    "\n",
    "totalResult = []\n",
    "\n",
    "for file in glob.glob( filePattern ):\n",
    "    print (file)\n",
    "    dataFile = openTarFile (file)\n",
    "    totalResult += [translateKeys (data) for data in dataFile]\n",
    "    \n",
    "\n"
   ]
  },
  {
   "cell_type": "code",
   "execution_count": null,
   "id": "ec2aa11e",
   "metadata": {},
   "outputs": [],
   "source": [
    "'''\n",
    "PRUEBA PARA HACER UN SOLO FICHERO NO EL BUCLE ANERIOR\n",
    "year = 2017\n",
    "file = '///export/data_ml4ds/IntelComp/Datasets/ted/xmls/2017-08.tar.gz'\n",
    "totalResult = []\n",
    "\n",
    "dataFile = openTarFile (file)\n",
    "\n",
    "totalResult = [translateKeys (data) for data in dataFile]\n",
    "'''"
   ]
  },
  {
   "cell_type": "code",
   "execution_count": 8,
   "id": "258541c6",
   "metadata": {},
   "outputs": [
    {
     "data": {
      "text/plain": [
       "36200"
      ]
     },
     "execution_count": 8,
     "metadata": {},
     "output_type": "execute_result"
    }
   ],
   "source": [
    "len(totalResult)\n",
    "totalResult[0]\n",
    "len(dataFile)\n"
   ]
  },
  {
   "cell_type": "code",
   "execution_count": 9,
   "id": "ad946533",
   "metadata": {},
   "outputs": [],
   "source": [
    "from pyspark.sql import Row\n",
    "\n",
    "\n",
    "df = spark.createDataFrame(totalResult)\n",
    "\n",
    "\n"
   ]
  },
  {
   "cell_type": "code",
   "execution_count": 10,
   "id": "e7d9dbb7",
   "metadata": {},
   "outputs": [
    {
     "name": "stderr",
     "output_type": "stream",
     "text": [
      "\r",
      "[Stage 1:=======================================================> (78 + 2) / 80]\r",
      "\r",
      "                                                                                \r"
     ]
    }
   ],
   "source": [
    "savePath = '/export/ml4ds/temporal/teddata/' + str(year)\n",
    "\n",
    "\n",
    "df.write.mode(\"overwrite\").parquet (savePath)"
   ]
  },
  {
   "cell_type": "code",
   "execution_count": 11,
   "id": "237d1ab5",
   "metadata": {},
   "outputs": [
    {
     "name": "stderr",
     "output_type": "stream",
     "text": [
      "                                                                                \r"
     ]
    },
    {
     "data": {
      "text/plain": [
       "390553"
      ]
     },
     "execution_count": 11,
     "metadata": {},
     "output_type": "execute_result"
    }
   ],
   "source": [
    "df.select('doc_id').distinct().count()"
   ]
  },
  {
   "cell_type": "code",
   "execution_count": null,
   "id": "109b27fe",
   "metadata": {},
   "outputs": [],
   "source": [
    "patata[0]['doc_id']"
   ]
  }
 ],
 "metadata": {
  "kernelspec": {
   "display_name": "Python 3 (ipykernel)",
   "language": "python",
   "name": "python3"
  },
  "language_info": {
   "codemirror_mode": {
    "name": "ipython",
    "version": 3
   },
   "file_extension": ".py",
   "mimetype": "text/x-python",
   "name": "python",
   "nbconvert_exporter": "python",
   "pygments_lexer": "ipython3",
   "version": "3.8.13"
  }
 },
 "nbformat": 4,
 "nbformat_minor": 5
}
