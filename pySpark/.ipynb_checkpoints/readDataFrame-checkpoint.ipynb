{
 "cells": [
  {
   "cell_type": "code",
   "execution_count": 55,
   "id": "eb7b0a87",
   "metadata": {},
   "outputs": [
    {
     "name": "stdout",
     "output_type": "stream",
     "text": [
      "2021\n",
      "2015\n"
     ]
    }
   ],
   "source": [
    "yearsToRead = [2015,2021]\n",
    "readPath = '/export/ml4ds/temporal/teddata/'\n",
    "\n",
    "#leemos el primer año y así ya tenemos la estructura inicial para poder concatenarlos:\n",
    "first = yearsToRead.pop()\n",
    "print (first)\n",
    "tedDF = spark.read.parquet (readPath + str(first))\n",
    "\n",
    "for year in yearsToRead:\n",
    "    print (year)\n",
    "    tedDF = tedDF.unionAll (spark.read.parquet (readPath + str(year))).dropDuplicates()\n",
    "\n",
    "    #tedDF = spark.read.parquet (readPath + str(year))\n"
   ]
  },
  {
   "cell_type": "code",
   "execution_count": 56,
   "id": "13c6389e",
   "metadata": {},
   "outputs": [
    {
     "name": "stderr",
     "output_type": "stream",
     "text": [
      "                                                                                \r"
     ]
    },
    {
     "data": {
      "text/plain": [
       "1067286"
      ]
     },
     "execution_count": 56,
     "metadata": {},
     "output_type": "execute_result"
    }
   ],
   "source": [
    "tedDF.select('doc_id').distinct().count()"
   ]
  },
  {
   "cell_type": "code",
   "execution_count": 53,
   "id": "15afb8eb",
   "metadata": {},
   "outputs": [
    {
     "name": "stderr",
     "output_type": "stream",
     "text": [
      "[Stage 98:=====================================================>(279 + 1) / 280]\r"
     ]
    },
    {
     "name": "stdout",
     "output_type": "stream",
     "text": [
      "+-----------+--------------+\n",
      "|     doc_id|reception_date|\n",
      "+-----------+--------------+\n",
      "|546961-2021| 21-566382-001|\n",
      "|547188-2021| 21-567068-001|\n",
      "|547245-2021| 21-564554-001|\n",
      "|547448-2021| 21-564952-001|\n",
      "|547483-2021| 21-565804-001|\n",
      "|547520-2021| 21-565093-001|\n",
      "|548053-2021| 21-565962-001|\n",
      "|548193-2021| 21-565410-001|\n",
      "|548288-2021| 21-565440-001|\n",
      "|548469-2021| 21-566246-001|\n",
      "|548544-2021| 21-566706-001|\n",
      "|548678-2021| 21-565114-001|\n",
      "|548958-2021| 21-565938-001|\n",
      "|549238-2021| 21-571172-001|\n",
      "|549442-2021| 21-573536-001|\n",
      "|549740-2021| 21-574298-001|\n",
      "|549830-2021| 21-575206-001|\n",
      "|550061-2021| 21-569989-001|\n",
      "|550063-2021| 21-571003-001|\n",
      "|550141-2021| 21-574169-001|\n",
      "+-----------+--------------+\n",
      "only showing top 20 rows\n",
      "\n"
     ]
    },
    {
     "name": "stderr",
     "output_type": "stream",
     "text": [
      "\r",
      "                                                                                \r"
     ]
    }
   ],
   "source": [
    "tedDF.show()"
   ]
  }
 ],
 "metadata": {
  "kernelspec": {
   "display_name": "Python 3 (ipykernel)",
   "language": "python",
   "name": "python3"
  },
  "language_info": {
   "codemirror_mode": {
    "name": "ipython",
    "version": 3
   },
   "file_extension": ".py",
   "mimetype": "text/x-python",
   "name": "python",
   "nbconvert_exporter": "python",
   "pygments_lexer": "ipython3",
   "version": "3.8.13"
  }
 },
 "nbformat": 4,
 "nbformat_minor": 5
}
