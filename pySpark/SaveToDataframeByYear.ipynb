{
 "cells": [
  {
   "cell_type": "code",
   "execution_count": 1,
   "id": "38d96297",
   "metadata": {},
   "outputs": [],
   "source": [
    "import glob\n",
    "\n",
    "import sys\n",
    "sys.path.append('/export/usuarios_ml4ds/sblanco/readTEDXML/pySpark/lib')\n",
    "from utils import openTarFile\n",
    "from utils import TranslateMachine\n",
    "\n",
    "from pyspark.sql import Row\n"
   ]
  },
  {
   "cell_type": "code",
   "execution_count": 2,
   "id": "86dafa07",
   "metadata": {
    "scrolled": true
   },
   "outputs": [
    {
     "name": "stdout",
     "output_type": "stream",
     "text": [
      "///export/data_ml4ds/IntelComp/Datasets/ted/xmls/2018-02.tar.gz\n",
      "Filtrando formularios, en el original hay 45838 datos\n",
      "nos quedamos con 36330 datos\n",
      "convirtiendo datos\n",
      "///export/data_ml4ds/IntelComp/Datasets/ted/xmls/2018-09.tar.gz\n",
      "Filtrando formularios, en el original hay 44349 datos\n",
      "nos quedamos con 37935 datos\n",
      "convirtiendo datos\n",
      "///export/data_ml4ds/IntelComp/Datasets/ted/xmls/2018-12.tar.gz\n",
      "Filtrando formularios, en el original hay 49294 datos\n",
      "nos quedamos con 41820 datos\n",
      "convirtiendo datos\n",
      "///export/data_ml4ds/IntelComp/Datasets/ted/xmls/2018-04.tar.gz\n",
      "Filtrando formularios, en el original hay 45166 datos\n",
      "nos quedamos con 36834 datos\n",
      "convirtiendo datos\n",
      "///export/data_ml4ds/IntelComp/Datasets/ted/xmls/2018-10.tar.gz\n",
      "Filtrando formularios, en el original hay 55345 datos\n",
      "nos quedamos con 47476 datos\n",
      "convirtiendo datos\n",
      "///export/data_ml4ds/IntelComp/Datasets/ted/xmls/2018-06.tar.gz\n",
      "Filtrando formularios, en el original hay 49327 datos\n",
      "nos quedamos con 41227 datos\n",
      "convirtiendo datos\n",
      "///export/data_ml4ds/IntelComp/Datasets/ted/xmls/2018-05.tar.gz\n",
      "Filtrando formularios, en el original hay 45443 datos\n",
      "nos quedamos con 37149 datos\n",
      "convirtiendo datos\n",
      "///export/data_ml4ds/IntelComp/Datasets/ted/xmls/2018-08.tar.gz\n",
      "Filtrando formularios, en el original hay 48210 datos\n",
      "nos quedamos con 40713 datos\n",
      "convirtiendo datos\n",
      "///export/data_ml4ds/IntelComp/Datasets/ted/xmls/2018-07.tar.gz\n",
      "Filtrando formularios, en el original hay 49642 datos\n",
      "nos quedamos con 42046 datos\n",
      "convirtiendo datos\n",
      "///export/data_ml4ds/IntelComp/Datasets/ted/xmls/2018-11.tar.gz\n",
      "Filtrando formularios, en el original hay 47826 datos\n",
      "nos quedamos con 40169 datos\n",
      "convirtiendo datos\n",
      "///export/data_ml4ds/IntelComp/Datasets/ted/xmls/2018-01.tar.gz\n",
      "Filtrando formularios, en el original hay 45278 datos\n",
      "nos quedamos con 35934 datos\n",
      "convirtiendo datos\n",
      "///export/data_ml4ds/IntelComp/Datasets/ted/xmls/2018-03.tar.gz\n",
      "Filtrando formularios, en el original hay 52783 datos\n",
      "nos quedamos con 41806 datos\n",
      "convirtiendo datos\n"
     ]
    }
   ],
   "source": [
    "year = 2018\n",
    "path ='///export/data_ml4ds/IntelComp/Datasets/ted/xmls/'\n",
    "filePattern = path + '*' + str(year) + '*.tar.gz'\n",
    "\n",
    "totalResult = []\n",
    "tm = TranslateMachine ()\n",
    "\n",
    "#Procesamos todos los formularios que empiecen por F\n",
    "validForm = ['F']\n",
    "\n",
    "for file in glob.glob( filePattern ):\n",
    "    print (file)\n",
    "    dataFile = openTarFile (file)\n",
    "    print ('Filtrando formularios, en el original hay %s datos' % len(dataFile))\n",
    "    dataFile = list(filter (lambda d: list (d['TED_EXPORT']['FORM_SECTION'].keys())[0][:1] in validForm, dataFile))\n",
    "    print ('nos quedamos con %s datos' % len (dataFile))\n",
    "    print ('convirtiendo datos')\n",
    "    totalResult += [tm.translateKeys (data) for data in dataFile]\n",
    "\n",
    "\n",
    "\n",
    "\n"
   ]
  },
  {
   "cell_type": "code",
   "execution_count": null,
   "id": "a5985666",
   "metadata": {},
   "outputs": [],
   "source": [
    "###################################PRUEBAS \n",
    "\n",
    "file ='///export/data_ml4ds/IntelComp/Datasets/ted/pruebas/test.tgz'\n",
    "file = '///export/data_ml4ds/IntelComp/Datasets/ted/xmls/2022-03.tar.gz'\n",
    "totalResult = []\n",
    "\n",
    "print ('abriendo fichero')\n",
    "dataFile = openTarFile (file)\n",
    "\n",
    "tm = TranslateMachine ()\n",
    "\n",
    "print ('Filtrando formularios, en el original hay %s datos' % len(dataFile))\n",
    "dataFile = list(filter (lambda d: list (d['TED_EXPORT']['FORM_SECTION'].keys())[0][:1] in validForm, dataFile))\n",
    "print ('nos quedamos con %s datos' % len (dataFile))\n",
    "\n",
    "print ('convirtiendo datos')\n",
    "totalResult += [tm.translateKeys (data) for data in dataFile]\n",
    "\n",
    "\n"
   ]
  },
  {
   "cell_type": "code",
   "execution_count": null,
   "id": "1373d5d2",
   "metadata": {},
   "outputs": [],
   "source": [
    "totalResult = []"
   ]
  },
  {
   "cell_type": "code",
   "execution_count": 3,
   "id": "ad946533",
   "metadata": {},
   "outputs": [],
   "source": [
    "from pyspark.sql import Row\n",
    "\n",
    "df = spark.createDataFrame(totalResult)\n",
    "\n"
   ]
  },
  {
   "cell_type": "code",
   "execution_count": null,
   "id": "fdce3674",
   "metadata": {},
   "outputs": [],
   "source": [
    "df.take(10)"
   ]
  },
  {
   "cell_type": "code",
   "execution_count": null,
   "id": "23825e33",
   "metadata": {},
   "outputs": [],
   "source": [
    "data2 = list (filter (lambda x:type (x) ==list , data))\n",
    "data2"
   ]
  },
  {
   "cell_type": "code",
   "execution_count": null,
   "id": "13fc6f99",
   "metadata": {},
   "outputs": [],
   "source": [
    "#df = spark.createDataFrame(totalResult[12344:12346])\n",
    "data = totalResult[12344:12346]\n",
    "data[1]"
   ]
  },
  {
   "cell_type": "code",
   "execution_count": 5,
   "id": "e7d9dbb7",
   "metadata": {},
   "outputs": [
    {
     "name": "stderr",
     "output_type": "stream",
     "text": [
      "22/06/08 23:02:41 WARN scheduler.TaskSetManager: Stage 2 contains a task of very large size (23299 KiB). The maximum recommended task size is 1000 KiB.\n",
      "                                                                                \r"
     ]
    }
   ],
   "source": [
    "savePath = '/export/ml4ds/temporal/teddata/' + str(year)\n",
    "\n",
    "\n",
    "df.write.mode(\"overwrite\").parquet (savePath)"
   ]
  },
  {
   "cell_type": "code",
   "execution_count": 6,
   "id": "237d1ab5",
   "metadata": {},
   "outputs": [
    {
     "name": "stderr",
     "output_type": "stream",
     "text": [
      "22/06/08 23:06:14 WARN scheduler.TaskSetManager: Stage 3 contains a task of very large size (23299 KiB). The maximum recommended task size is 1000 KiB.\n",
      "                                                                                \r"
     ]
    }
   ],
   "source": [
    "patata = df.count()"
   ]
  },
  {
   "cell_type": "code",
   "execution_count": 4,
   "id": "109b27fe",
   "metadata": {
    "scrolled": false
   },
   "outputs": [
    {
     "name": "stderr",
     "output_type": "stream",
     "text": [
      "22/06/08 22:59:10 WARN scheduler.TaskSetManager: Stage 0 contains a task of very large size (23299 KiB). The maximum recommended task size is 1000 KiB.\n",
      "                                                                                \r"
     ]
    },
    {
     "data": {
      "text/plain": [
       "22873"
      ]
     },
     "execution_count": 4,
     "metadata": {},
     "output_type": "execute_result"
    }
   ],
   "source": [
    "df.filter('ORIGINAL_LG=\"ES\"').count()"
   ]
  },
  {
   "cell_type": "code",
   "execution_count": 7,
   "id": "fe68d80a",
   "metadata": {},
   "outputs": [
    {
     "data": {
      "text/plain": [
       "479439"
      ]
     },
     "execution_count": 7,
     "metadata": {},
     "output_type": "execute_result"
    }
   ],
   "source": [
    "patata"
   ]
  }
 ],
 "metadata": {
  "kernelspec": {
   "display_name": "Python 3 (ipykernel)",
   "language": "python",
   "name": "python3"
  },
  "language_info": {
   "codemirror_mode": {
    "name": "ipython",
    "version": 3
   },
   "file_extension": ".py",
   "mimetype": "text/x-python",
   "name": "python",
   "nbconvert_exporter": "python",
   "pygments_lexer": "ipython3",
   "version": "3.8.13"
  }
 },
 "nbformat": 4,
 "nbformat_minor": 5
}
